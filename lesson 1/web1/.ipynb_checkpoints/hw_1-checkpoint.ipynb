{
 "cells": [
  {
   "cell_type": "code",
   "execution_count": 1,
   "id": "bd24d2cd",
   "metadata": {},
   "outputs": [],
   "source": [
    "import numpy as np\n",
    "import matplotlib.pyplot as plt"
   ]
  },
  {
   "cell_type": "markdown",
   "id": "bd18c149",
   "metadata": {},
   "source": [
    "__Задача:__ предсказание баллов ЕГЭ ученика в зависимости от кол-ва лет стажа его репетитора"
   ]
  },
  {
   "cell_type": "code",
   "execution_count": 2,
   "id": "0cb1da42",
   "metadata": {},
   "outputs": [],
   "source": [
    "X = np.array([[ 1,  1],\n",
    "              [ 1,  1],\n",
    "              [ 1,  2],\n",
    "              [ 1,  5],\n",
    "              [ 1,  3],\n",
    "              [ 1,  0],\n",
    "              [ 1,  5],\n",
    "              [ 1, 10],\n",
    "              [ 1,  1],\n",
    "              [ 1,  2]])"
   ]
  },
  {
   "cell_type": "code",
   "execution_count": 3,
   "id": "2eacbf1c",
   "metadata": {},
   "outputs": [],
   "source": [
    "y = [45, 55, 50, 55, 60, 35, 75, 80, 50, 60]"
   ]
  },
  {
   "cell_type": "code",
   "execution_count": 4,
   "id": "2d40be5b",
   "metadata": {},
   "outputs": [],
   "source": [
    "y_pred1 = 5 * X[:, 1] + 35 * X[:, 0] \n",
    "y_pred2 = 7.5 * X[:, 1] + 40 * X[:, 0]"
   ]
  },
  {
   "cell_type": "code",
   "execution_count": 5,
   "id": "9ddd61e4",
   "metadata": {},
   "outputs": [
    {
     "data": {
      "image/png": "[encoded data removed]",
      "text/plain": [
       "<Figure size 432x288 with 1 Axes>"
      ]
     },
     "metadata": {
      "needs_background": "light"
     },
     "output_type": "display_data"
    }
   ],
   "source": [
    "plt.scatter(X[:, 1], y)\n",
    "plt.plot(X[:, 1], y_pred1, label='1')\n",
    "plt.plot(X[:, 1], y_pred2, label='2')\n",
    "plt.legend()\n",
    "plt.show()"
   ]
  },
  {
   "cell_type": "markdown",
   "id": "0a4794f3",
   "metadata": {},
   "source": [
    "Отклонение"
   ]
  },
  {
   "cell_type": "code",
   "execution_count": 6,
   "id": "1944d8d2",
   "metadata": {},
   "outputs": [
    {
     "data": {
      "text/plain": [
       "(65, -60.0)"
      ]
     },
     "execution_count": 6,
     "metadata": {},
     "output_type": "execute_result"
    }
   ],
   "source": [
    "err1 = np.sum(y - y_pred1)\n",
    "err2 = np.sum(y - y_pred2)\n",
    "err1, err2"
   ]
  },
  {
   "cell_type": "markdown",
   "id": "2859eacc",
   "metadata": {},
   "source": [
    "MAE (Mean Absolute Error)"
   ]
  },
  {
   "cell_type": "code",
   "execution_count": 7,
   "id": "b0767244",
   "metadata": {},
   "outputs": [
    {
     "data": {
      "text/plain": [
       "(8.5, 9.0)"
      ]
     },
     "execution_count": 7,
     "metadata": {},
     "output_type": "execute_result"
    }
   ],
   "source": [
    "mae_1 = np.mean(np.abs(y - y_pred1))\n",
    "mae_2 = np.mean(np.abs(y - y_pred2))\n",
    "mae_1, mae_2"
   ]
  },
  {
   "cell_type": "markdown",
   "id": "084dce17",
   "metadata": {},
   "source": [
    "MSE (Mean Squared Error)"
   ]
  },
  {
   "cell_type": "code",
   "execution_count": 8,
   "id": "c6ee2a58",
   "metadata": {},
   "outputs": [
    {
     "data": {
      "text/plain": [
       "(97.5, 188.75)"
      ]
     },
     "execution_count": 8,
     "metadata": {},
     "output_type": "execute_result"
    }
   ],
   "source": [
    "mse_1 = np.mean((y - y_pred1)**2)\n",
    "mse_2 = np.mean((y - y_pred2)**2)\n",
    "mse_1, mse_2"
   ]
  },
  {
   "cell_type": "markdown",
   "id": "fd587f5c",
   "metadata": {},
   "source": [
    "### Метод наименьших квадратов (МНК)"
   ]
  },
  {
   "cell_type": "markdown",
   "id": "62b3dd1c",
   "metadata": {},
   "source": [
    "$$w = (X^{T}X)^{-1}X^{T}y.$$"
   ]
  },
  {
   "cell_type": "code",
   "execution_count": 9,
   "id": "f49d6c83",
   "metadata": {},
   "outputs": [
    {
     "data": {
      "text/plain": [
       "array([45.0625,  3.8125])"
      ]
     },
     "execution_count": 9,
     "metadata": {},
     "output_type": "execute_result"
    }
   ],
   "source": [
    "W_analytical = np.linalg.inv(np.dot(X.T, X)) @ X.T @ y\n",
    "W_analytical"
   ]
  },
  {
   "cell_type": "code",
   "execution_count": 10,
   "id": "0512bf00",
   "metadata": {},
   "outputs": [],
   "source": [
    "y_pred_analytical = W_analytical[0] * X[:, 0] + W_analytical[1] * X[:, 1]\n",
    "y_pred_analytical = X @ W_analytical"
   ]
  },
  {
   "cell_type": "code",
   "execution_count": 11,
   "id": "324322b5",
   "metadata": {},
   "outputs": [
    {
     "data": {
      "image/png": "[encoded data removed]",
      "text/plain": [
       "<Figure size 432x288 with 1 Axes>"
      ]
     },
     "metadata": {
      "needs_background": "light"
     },
     "output_type": "display_data"
    }
   ],
   "source": [
    "plt.scatter(X[:, 1], y)\n",
    "plt.plot(X[:, 1], y_pred1, label='1 - manual')\n",
    "plt.plot(X[:, 1], y_pred2, label='2 - manual')\n",
    "plt.plot(X[:, 1], y_pred_analytical, label='3 - analytical solution')\n",
    "plt.legend()\n",
    "plt.show()"
   ]
  },
  {
   "cell_type": "code",
   "execution_count": 12,
   "id": "7ac16d95",
   "metadata": {},
   "outputs": [],
   "source": [
    "def calc_mae(y, y_pred):\n",
    "    err = np.mean(np.abs(y - y_pred))\n",
    "    return err\n",
    "\n",
    "def calc_mse(y, y_pred):\n",
    "    err = np.mean((y - y_pred)**2)\n",
    "    return err"
   ]
  },
  {
   "cell_type": "code",
   "execution_count": 13,
   "id": "42648926",
   "metadata": {},
   "outputs": [
    {
     "data": {
      "text/plain": [
       "(8.5, 97.5)"
      ]
     },
     "execution_count": 13,
     "metadata": {},
     "output_type": "execute_result"
    }
   ],
   "source": [
    "calc_mae(y, y_pred1), calc_mse(y, y_pred1)"
   ]
  },
  {
   "cell_type": "code",
   "execution_count": 14,
   "id": "a10f7c7d",
   "metadata": {},
   "outputs": [
    {
     "data": {
      "text/plain": [
       "(9.0, 188.75)"
      ]
     },
     "execution_count": 14,
     "metadata": {},
     "output_type": "execute_result"
    }
   ],
   "source": [
    "calc_mae(y, y_pred2), calc_mse(y, y_pred2)"
   ]
  },
  {
   "cell_type": "code",
   "execution_count": 15,
   "id": "b9bf8709",
   "metadata": {},
   "outputs": [
    {
     "data": {
      "text/plain": [
       "(5.7875, 43.96874999999999)"
      ]
     },
     "execution_count": 15,
     "metadata": {},
     "output_type": "execute_result"
    }
   ],
   "source": [
    "calc_mae(y, y_pred_analytical), calc_mse(y, y_pred_analytical)"
   ]
  },
  {
   "cell_type": "markdown",
   "id": "b47a54a5",
   "metadata": {},
   "source": [
    "### Градиентный спуск"
   ]
  },
  {
   "cell_type": "markdown",
   "id": "216d6373",
   "metadata": {},
   "source": [
    "$$\\nabla_{w}Q(w,X) = \\frac{2}{l}X^{T}(Xw-y).$$"
   ]
  },
  {
   "cell_type": "markdown",
   "id": "17fc456a",
   "metadata": {},
   "source": [
    "1. Инициализация w\n",
    "\n",
    "2. Цикл по k = 1,2,3,...:\n",
    "\n",
    "    * $w^{k} = w^{k-1} - \\eta_{k}\\nabla Q(w^{k-1}, X)$\n",
    "\n",
    "    * Если $||w^{k} - w^{k-1}|| < \\epsilon$, то завершить.\n"
   ]
  },
  {
   "cell_type": "code",
   "execution_count": 16,
   "id": "8dfb6dd5",
   "metadata": {},
   "outputs": [
    {
     "data": {
      "text/plain": [
       "array([0.02906877, 0.89227216])"
      ]
     },
     "execution_count": 16,
     "metadata": {},
     "output_type": "execute_result"
    }
   ],
   "source": [
    "W = np.random.normal(size=(X.shape[1]))\n",
    "W"
   ]
  },
  {
   "cell_type": "markdown",
   "id": "3986c095",
   "metadata": {},
   "source": [
    "Величина шага"
   ]
  },
  {
   "cell_type": "code",
   "execution_count": 17,
   "id": "fe7119a9",
   "metadata": {},
   "outputs": [],
   "source": [
    "eta = 0.02"
   ]
  },
  {
   "cell_type": "markdown",
   "id": "9413c7cb",
   "metadata": {},
   "source": [
    "Градиент функции ошибки"
   ]
  },
  {
   "cell_type": "code",
   "execution_count": 18,
   "id": "92137345",
   "metadata": {},
   "outputs": [
    {
     "data": {
      "text/plain": [
       "array([-107.58822951, -369.48833396])"
      ]
     },
     "execution_count": 18,
     "metadata": {},
     "output_type": "execute_result"
    }
   ],
   "source": [
    "n = len(y)\n",
    "dQ = 2/n * X.T @ (X @ W - y)\n",
    "dQ"
   ]
  },
  {
   "cell_type": "code",
   "execution_count": 19,
   "id": "73d56f1e",
   "metadata": {},
   "outputs": [
    {
     "data": {
      "text/plain": [
       "array([-2.15176459, -7.38976668])"
      ]
     },
     "execution_count": 19,
     "metadata": {},
     "output_type": "execute_result"
    }
   ],
   "source": [
    "grad = eta * dQ\n",
    "grad"
   ]
  },
  {
   "cell_type": "code",
   "execution_count": 20,
   "id": "c8db3f8e",
   "metadata": {
    "scrolled": true
   },
   "outputs": [
    {
     "name": "stdout",
     "output_type": "stream",
     "text": [
      "previous weights [0.02906877 0.89227216]\n",
      "new weights [2.18083336 8.28203884]\n"
     ]
    }
   ],
   "source": [
    "print(f'previous weights', W)\n",
    "W = W - grad\n",
    "print(f'new weights', W)"
   ]
  },
  {
   "cell_type": "code",
   "execution_count": 21,
   "id": "606c6067",
   "metadata": {},
   "outputs": [
    {
     "data": {
      "image/png": "[encoded data removed]",
      "text/plain": [
       "<Figure size 432x288 with 1 Axes>"
      ]
     },
     "metadata": {
      "needs_background": "light"
     },
     "output_type": "display_data"
    }
   ],
   "source": [
    "y_pred_grad = X @ W\n",
    "plt.scatter(X[:, 1], y)\n",
    "plt.plot(X[:, 1], y_pred_grad, label='gradient descent', c='g')\n",
    "plt.legend()\n",
    "plt.show()"
   ]
  },
  {
   "cell_type": "markdown",
   "id": "7797916d",
   "metadata": {},
   "source": [
    "1. Подберите скорость обучения (eta) и количество итераций"
   ]
  },
  {
   "cell_type": "code",
   "execution_count": 38,
   "id": "19f42ccf",
   "metadata": {},
   "outputs": [
    {
     "name": "stdout",
     "output_type": "stream",
     "text": [
      "Number of objects = 10        \n",
      "Learning rate = 0.06        \n",
      "Initial weights = [1.  0.5] \n",
      "\n"
     ]
    }
   ],
   "source": [
    "n = X.shape[0]\n",
    "\n",
    "eta = 6e-2 \n",
    "n_iter = 300\n",
    "\n",
    "W = np.array([1, 0.5])\n",
    "print(f'Number of objects = {n} \\\n",
    "       \\nLearning rate = {eta} \\\n",
    "       \\nInitial weights = {W} \\n')"
   ]
  },
  {
   "cell_type": "code",
   "execution_count": 39,
   "id": "a580cf26",
   "metadata": {},
   "outputs": [
    {
     "name": "stdout",
     "output_type": "stream",
     "text": [
      "Iteration #0: W_new = [ 7.48 23.12], MSE = 3047.75\n",
      "Iteration #10: W_new = [22.07462743 13.05784976], MSE = 865.57\n",
      "Iteration #20: W_new = [30.0735307   6.78016869], MSE = 162.66\n",
      "Iteration #30: W_new = [35.1835249  5.6050078], MSE = 93.96\n",
      "Iteration #40: W_new = [38.3126292   5.03648529], MSE = 67.13\n",
      "Iteration #50: W_new = [40.28531327  4.67876916], MSE = 55.49\n",
      "Iteration #60: W_new = [41.57179614  4.44548532], MSE = 50.08\n",
      "Iteration #70: W_new = [42.43695677  4.28860178], MSE = 47.41\n",
      "Iteration #80: W_new = [43.03520501  4.18011869], MSE = 46.01\n",
      "Iteration #90: W_new = [43.45945814  4.10318693], MSE = 45.24\n",
      "Iteration #100: W_new = [43.76728298  4.04736764], MSE = 44.79\n",
      "Iteration #110: W_new = [43.99531262  4.00601798], MSE = 44.53\n",
      "Iteration #120: W_new = [44.1674401   3.97480531], MSE = 44.36\n",
      "Iteration #130: W_new = [44.29960683  3.95083891], MSE = 44.25\n",
      "Iteration #140: W_new = [44.40267405  3.93214926], MSE = 44.18\n",
      "Iteration #150: W_new = [44.48418639  3.91736826], MSE = 44.13\n",
      "Iteration #160: W_new = [44.54947947  3.90552836], MSE = 44.1\n",
      "Iteration #170: W_new = [44.60238987  3.89593388], MSE = 44.07\n",
      "Iteration #180: W_new = [44.64571919  3.88807677], MSE = 44.05\n",
      "Iteration #190: W_new = [44.68154283  3.88158071], MSE = 44.04\n",
      "Iteration #200: W_new = [44.7114189   3.87616314], MSE = 44.03\n",
      "Iteration #210: W_new = [44.73653185  3.8716093 ], MSE = 44.02\n",
      "Iteration #220: W_new = [44.75779261  3.86775399], MSE = 44.01\n",
      "Iteration #230: W_new = [44.77590941  3.86446878], MSE = 44.01\n",
      "Iteration #240: W_new = [44.79143858  3.86165281], MSE = 44.0\n",
      "Iteration #250: W_new = [44.80482128  3.85922606], MSE = 44.0\n",
      "Iteration #260: W_new = [44.81641054  3.85712453], MSE = 44.0\n",
      "Iteration #270: W_new = [44.82649123  3.85529655], MSE = 44.0\n",
      "Iteration #280: W_new = [44.83529506  3.85370011], MSE = 43.99\n",
      "Iteration #290: W_new = [44.84301192  3.85230078], MSE = 43.99\n"
     ]
    }
   ],
   "source": [
    "for i in range(n_iter):\n",
    "    y_pred = np.dot(X, W)\n",
    "    err = calc_mse(y, y_pred)\n",
    "    for k in range(W.shape[0]):\n",
    "        W[k] -= eta * (1/n * 2 * X[:, k] @ (y_pred - y))\n",
    "    if i % 10 == 0:\n",
    "        eta /= 1.1\n",
    "        print(f'Iteration #{i}: W_new = {W}, MSE = {round(err, 2)}')"
   ]
  },
  {
   "cell_type": "markdown",
   "id": "1f10c169",
   "metadata": {},
   "source": [
    "Скорость обучения - 0.06, кол-во итераций - 300."
   ]
  },
  {
   "cell_type": "markdown",
   "id": "cbd93658",
   "metadata": {},
   "source": [
    "2*. В этом коде мы избавляемся от итераций по весам, но тут есть ошибка, исправьте ее"
   ]
  },
  {
   "cell_type": "code",
   "execution_count": 43,
   "id": "0e60eeeb",
   "metadata": {},
   "outputs": [
    {
     "name": "stdout",
     "output_type": "stream",
     "text": [
      "Number of objects = 10        \n",
      "Learning rate = 0.01        \n",
      "Initial weights = [1.  0.5] \n",
      "\n",
      "Iteration #0: W_new = [2.08 1.58], MSE = 3047.75\n",
      "Iteration #10: W_new = [9.1048954 8.6048954], MSE = 743.72\n",
      "Iteration #20: W_new = [12.15642885 11.65642885], MSE = 614.77\n",
      "Iteration #30: W_new = [13.48197975 12.98197975], MSE = 723.27\n",
      "Iteration #40: W_new = [14.05778376 13.55778376], MSE = 801.45\n",
      "Iteration #50: W_new = [14.30790637 13.80790637], MSE = 841.26\n",
      "Iteration #60: W_new = [14.41655675 13.91655675], MSE = 859.66\n",
      "Iteration #70: W_new = [14.46375321 13.96375321], MSE = 867.87\n",
      "Iteration #80: W_new = [14.48425481 13.98425481], MSE = 871.47\n",
      "Iteration #90: W_new = [14.49316047 13.99316047], MSE = 873.04\n"
     ]
    }
   ],
   "source": [
    "n = X.shape[0]\n",
    "\n",
    "eta = 1e-2 \n",
    "n_iter = 100\n",
    "\n",
    "W = np.array([1, 0.5])\n",
    "print(f'Number of objects = {n} \\\n",
    "       \\nLearning rate = {eta} \\\n",
    "       \\nInitial weights = {W} \\n')\n",
    "\n",
    "for i in range(n_iter):\n",
    "    y_pred = np.dot(X, W)\n",
    "    err = calc_mse(y, y_pred)\n",
    "#     for k in range(W.shape[0]):\n",
    "#         W[k] -= eta * (1/n * 2 * X[:, k] @ (y_pred - y))\n",
    "    # ИЗМЕНЕНИЯ\n",
    "    W -= eta * (1/n * 2 * np.dot(X[:, 0], y_pred - y))\n",
    "    # ИЗМЕНЕНИЯ\n",
    "    #\n",
    "    if i % 10 == 0:\n",
    "        print(f'Iteration #{i}: W_new = {W}, MSE = {round(err,2)}')"
   ]
  },
  {
   "cell_type": "code",
   "execution_count": null,
   "id": "4cdd29a8",
   "metadata": {},
   "outputs": [],
   "source": []
  }
 ],
 "metadata": {
  "kernelspec": {
   "display_name": "Python 3 (ipykernel)",
   "language": "python",
   "name": "python3"
  },
  "language_info": {
   "codemirror_mode": {
    "name": "ipython",
    "version": 3
   },
   "file_extension": ".py",
   "mimetype": "text/x-python",
   "name": "python",
   "nbconvert_exporter": "python",
   "pygments_lexer": "ipython3",
   "version": "3.9.12"
  }
 },
 "nbformat": 4,
 "nbformat_minor": 5
}
