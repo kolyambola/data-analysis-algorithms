{
 "cells": [
  {
   "cell_type": "code",
   "execution_count": 1,
   "id": "9d6e1a28",
   "metadata": {},
   "outputs": [],
   "source": [
    "import numpy as np\n",
    "import matplotlib.pyplot as plt"
   ]
  },
  {
   "cell_type": "code",
   "execution_count": 2,
   "id": "1ddaaacb",
   "metadata": {},
   "outputs": [],
   "source": [
    "X = np.array([ [   1,    1,  500,    1],\n",
    "               [   1,    1,  700,    1],\n",
    "               [   1,    2,  750,    2],\n",
    "               [   1,    5,  600,    1],\n",
    "               [   1,    3, 1450,    2],\n",
    "               [   1,    0,  800,    1],\n",
    "               [   1,    5, 1500,    3],\n",
    "               [   1,   10, 2000,    3],\n",
    "               [   1,    1,  450,    1],\n",
    "               [   1,    2, 1000,    2]], dtype=np.float64)\n",
    "\n",
    "y = np.array([0, 0, 1, 0, 1, 0, 1, 0, 1, 1], dtype=np.float64)"
   ]
  },
  {
   "cell_type": "code",
   "execution_count": 3,
   "id": "07faad1b",
   "metadata": {},
   "outputs": [
    {
     "data": {
      "text/plain": [
       "(array([[1.00e+00, 1.00e+00, 5.00e+02, 1.00e+00],\n",
       "        [1.00e+00, 1.00e+00, 7.00e+02, 1.00e+00],\n",
       "        [1.00e+00, 2.00e+00, 7.50e+02, 2.00e+00],\n",
       "        [1.00e+00, 5.00e+00, 6.00e+02, 1.00e+00],\n",
       "        [1.00e+00, 3.00e+00, 1.45e+03, 2.00e+00],\n",
       "        [1.00e+00, 0.00e+00, 8.00e+02, 1.00e+00],\n",
       "        [1.00e+00, 5.00e+00, 1.50e+03, 3.00e+00],\n",
       "        [1.00e+00, 1.00e+01, 2.00e+03, 3.00e+00],\n",
       "        [1.00e+00, 1.00e+00, 4.50e+02, 1.00e+00],\n",
       "        [1.00e+00, 2.00e+00, 1.00e+03, 2.00e+00]]),\n",
       " array([0., 0., 1., 0., 1., 0., 1., 0., 1., 1.]))"
      ]
     },
     "execution_count": 3,
     "metadata": {},
     "output_type": "execute_result"
    }
   ],
   "source": [
    "X, y"
   ]
  },
  {
   "cell_type": "code",
   "execution_count": 4,
   "id": "4f665d3d",
   "metadata": {},
   "outputs": [],
   "source": [
    "def standard_scale(x):\n",
    "    res = (x - x.mean()) / x.std()\n",
    "    return res"
   ]
  },
  {
   "cell_type": "code",
   "execution_count": 5,
   "id": "93f20875",
   "metadata": {},
   "outputs": [],
   "source": [
    "X_st = X.copy()\n",
    "X_st[:, 2] = standard_scale(X[:, 2])"
   ]
  },
  {
   "cell_type": "code",
   "execution_count": 6,
   "id": "457454a4",
   "metadata": {},
   "outputs": [
    {
     "data": {
      "text/plain": [
       "array([[ 1.        ,  1.        , -0.97958969,  1.        ],\n",
       "       [ 1.        ,  1.        , -0.56713087,  1.        ],\n",
       "       [ 1.        ,  2.        , -0.46401617,  2.        ],\n",
       "       [ 1.        ,  5.        , -0.77336028,  1.        ],\n",
       "       [ 1.        ,  3.        ,  0.97958969,  2.        ],\n",
       "       [ 1.        ,  0.        , -0.36090146,  1.        ],\n",
       "       [ 1.        ,  5.        ,  1.08270439,  3.        ],\n",
       "       [ 1.        , 10.        ,  2.11385144,  3.        ],\n",
       "       [ 1.        ,  1.        , -1.08270439,  1.        ],\n",
       "       [ 1.        ,  2.        ,  0.05155735,  2.        ]])"
      ]
     },
     "execution_count": 6,
     "metadata": {},
     "output_type": "execute_result"
    }
   ],
   "source": [
    "X_st"
   ]
  },
  {
   "cell_type": "code",
   "execution_count": 7,
   "id": "c2a763e2",
   "metadata": {},
   "outputs": [],
   "source": [
    "def calc_logloss(y, y_pred):\n",
    "    err = - np.mean(y * np.log(y_pred) + (1.0 - y) * np.log(1.0 - y_pred))\n",
    "    return err"
   ]
  },
  {
   "cell_type": "code",
   "execution_count": 8,
   "id": "e9f56eba",
   "metadata": {},
   "outputs": [],
   "source": [
    "def sigmoid(z):\n",
    "    res = 1 / (1 + np.exp(-z))\n",
    "    return res"
   ]
  },
  {
   "cell_type": "code",
   "execution_count": 9,
   "id": "973163e1",
   "metadata": {},
   "outputs": [],
   "source": [
    "def eval_model(X, y, iterations, eta=1e-4):\n",
    "    np.random.seed(42)\n",
    "    W = np.random.randn(X.shape[1])\n",
    "    n = X.shape[0]\n",
    "    \n",
    "    for i in range(iterations):\n",
    "        z = np.dot(X, W)\n",
    "        y_pred = sigmoid(z)\n",
    "        err = calc_logloss(y, y_pred)\n",
    "        \n",
    "        dQ = 1/n * X.T @ (y_pred - y)\n",
    "        W -= eta * dQ\n",
    "        if i % (iterations / 100) == 0:\n",
    "            print(i, W, err)\n",
    "    return W"
   ]
  },
  {
   "cell_type": "markdown",
   "id": "2bcd626b",
   "metadata": {},
   "source": [
    "1. Измените функцию calc_logloss так, чтобы нули по возможности не попадали в np.log."
   ]
  },
  {
   "cell_type": "markdown",
   "id": "a052eeb0",
   "metadata": {},
   "source": [
    "Модифицируем функцию так, чтобы в неё попадали не 0 или 1, а близкие к ним значения."
   ]
  },
  {
   "cell_type": "code",
   "execution_count": 10,
   "id": "d450e719",
   "metadata": {},
   "outputs": [],
   "source": [
    "def calc_logloss_mod(y, y_pred):\n",
    "    y_pred_res = np.where(y_pred == 1, y_pred - 1e-07, np.where(y_pred == 0, y_pred + 1e-07, y_pred))\n",
    "    err = - np.mean(y * np.log(y_pred_res) + (1.0 - y) * np.log(1.0 - y_pred_res))\n",
    "    return err"
   ]
  },
  {
   "cell_type": "markdown",
   "id": "4db19f3e",
   "metadata": {},
   "source": [
    "Для проверки изменим вектор предсказанных значений, добавив в него нули и единицы"
   ]
  },
  {
   "cell_type": "code",
   "execution_count": 11,
   "id": "bdbb117d",
   "metadata": {},
   "outputs": [
    {
     "data": {
      "text/plain": [
       "3.4639213705337264"
      ]
     },
     "execution_count": 11,
     "metadata": {},
     "output_type": "execute_result"
    }
   ],
   "source": [
    "y_pred_2 = np.array([0., 0., 0.73370977, 0.45678552, 1.,\n",
    "       0.57185484, 0.76730523, 1. , 0., 0.690758 ])\n",
    "calc_logloss_mod(y, y_pred_2)"
   ]
  },
  {
   "cell_type": "markdown",
   "id": "39cb8e48",
   "metadata": {},
   "source": [
    "Исходная функция возвращает nan"
   ]
  },
  {
   "cell_type": "code",
   "execution_count": 12,
   "id": "aa09f0ab",
   "metadata": {},
   "outputs": [
    {
     "name": "stderr",
     "output_type": "stream",
     "text": [
      "C:\\Users\\User\\AppData\\Local\\Temp\\ipykernel_2068\\851670199.py:2: RuntimeWarning: divide by zero encountered in log\n",
      "  err = - np.mean(y * np.log(y_pred) + (1.0 - y) * np.log(1.0 - y_pred))\n",
      "C:\\Users\\User\\AppData\\Local\\Temp\\ipykernel_2068\\851670199.py:2: RuntimeWarning: invalid value encountered in multiply\n",
      "  err = - np.mean(y * np.log(y_pred) + (1.0 - y) * np.log(1.0 - y_pred))\n"
     ]
    },
    {
     "data": {
      "text/plain": [
       "nan"
      ]
     },
     "execution_count": 12,
     "metadata": {},
     "output_type": "execute_result"
    }
   ],
   "source": [
    "calc_logloss(y, y_pred_2)"
   ]
  },
  {
   "cell_type": "markdown",
   "id": "85d2ed16",
   "metadata": {},
   "source": [
    "2. Подберите аргументы функции eval_model для логистической регрессии таким образом, чтобы log loss был минимальным."
   ]
  },
  {
   "cell_type": "code",
   "execution_count": 13,
   "id": "fa9037a5",
   "metadata": {},
   "outputs": [],
   "source": [
    "def eval_model(X, y, verbose=False, alpha=1e-4, tol=0.00001): \n",
    "    view_ind = 10**(-np.log10(tol)-2) if -np.log10(tol)-2 >= 1 else 1 # задаём параметр кратности вывода промежуточных результатов\n",
    "    np.random.seed(42)\n",
    "    W = np.random.randn(X.shape[1])\n",
    "    n = X.shape[0]\n",
    "    min_err = np.inf \n",
    "    n_iter = 0\n",
    "    stop_check = True\n",
    "    errors = []\n",
    "    while stop_check:\n",
    "        n_iter += 1\n",
    "        z = np.dot(X, W)\n",
    "        y_pred = sigmoid(z)\n",
    "        err = calc_logloss_mod(y, y_pred)\n",
    "        errors.append(err)\n",
    "        if min_err - err > tol:  # контролируем текущее значение ошибки\n",
    "            min_err = err\n",
    "        else:  # если снижение прекратилось, останавливаемся.\n",
    "            print(\n",
    "                f'Stop descent. Iteration: {n_iter}, weights: {W}, logloss: {min_err}')\n",
    "            stop_check = False\n",
    "        dQ = 1/n * X.T @ (y_pred - y)\n",
    "        W -= alpha * dQ\n",
    "        if verbose:\n",
    "            if n_iter % view_ind == 0:\n",
    "                print(n_iter, W, err)\n",
    "    return W, min_err, n_iter"
   ]
  },
  {
   "cell_type": "code",
   "execution_count": 14,
   "id": "59e777a8",
   "metadata": {},
   "outputs": [
    {
     "name": "stdout",
     "output_type": "stream",
     "text": [
      "1000 [-8.22705654 -1.19179224 -1.63103389  7.14617725] 0.2597559875895107\n",
      "2000 [-11.81693228  -1.47202752  -2.74842535   9.99506855] 0.2221605978051023\n",
      "3000 [-14.60325068  -1.70958893  -3.58457685  12.24861365] 0.19942508537234382\n",
      "4000 [-16.96660182  -1.91673038  -4.28184084  14.16798183] 0.18306205104868484\n",
      "5000 [-19.03415014  -2.10036075  -4.88520289  15.84885732] 0.1705473305742659\n",
      "Stop descent. Iteration: 5449, weights: [-19.88389849  -2.17629563  -5.13166996  16.53977688], logloss: 0.16583588446774902\n"
     ]
    }
   ],
   "source": [
    "W = eval_model(X_st, y, verbose=True, alpha=0.6, tol=0.00001)"
   ]
  },
  {
   "cell_type": "markdown",
   "id": "f2a25bf1",
   "metadata": {},
   "source": [
    "Подберём лучший параметр $\\alpha$ для модели."
   ]
  },
  {
   "cell_type": "code",
   "execution_count": 15,
   "id": "a966d192",
   "metadata": {},
   "outputs": [],
   "source": [
    "def get_best_params(X, y, args):\n",
    "    best_params = []\n",
    "    for arg in args:\n",
    "        W,err,n_iter = eval_model(X, y, alpha=arg)\n",
    "        best_params.append((arg,err,n_iter))\n",
    "    best_params.sort(key = lambda x:x[1])\n",
    "    print(f'best alpha: {best_params[0][0]}, \\nresults:\\nerr: {best_params[0][1]}, \\nn_iter: {best_params[0][2]}')\n",
    "    return best_params[0]"
   ]
  },
  {
   "cell_type": "code",
   "execution_count": 42,
   "id": "8df9f3b0",
   "metadata": {},
   "outputs": [
    {
     "name": "stdout",
     "output_type": "stream",
     "text": [
      "Stop descent. Iteration: 2, weights: [ 0.11732727 -1.58914029  0.62030812  0.95688359], logloss: 1.1785958344356262\n",
      "Stop descent. Iteration: 5588, weights: [-18.35029116  -2.03943006  -4.68623881  15.29282887], logloss: 0.17451429964096338\n",
      "Stop descent. Iteration: 5507, weights: [-7.85409116 -1.16596006 -1.51053115  6.85817166], logloss: 0.2644646885841898\n",
      "Stop descent. Iteration: 6217, weights: [-5.68112112 -1.03751043 -0.78050594  5.23775616], logloss: 0.29772674984784453\n",
      "Stop descent. Iteration: 5665, weights: [-1.51077461 -0.92062082  0.7677089   2.49733437], logloss: 0.4113212951463094\n",
      "Stop descent. Iteration: 2705, weights: [-0.28749979 -0.77956547  0.97673079  1.56687312], logloss: 0.46890406876264856\n",
      "Stop descent. Iteration: 1674, weights: [ 0.24314054 -0.71650811  0.70726759  1.27956464], logloss: 0.5115007726748093\n",
      "Stop descent. Iteration: 1980, weights: [ 0.30188575 -0.69945257  0.66235975  1.28918087], logloss: 0.5203618833145909\n",
      "Stop descent. Iteration: 6102, weights: [ 0.34582317 -0.64688565  0.63996637  1.3158614 ], logloss: 0.5372280477247372\n",
      "Stop descent. Iteration: 10096, weights: [ 0.36171488 -0.61414692  0.63582652  1.33101801], logloss: 0.5523036821298577\n",
      "Stop descent. Iteration: 27879, weights: [ 0.4076584  -0.47648572  0.63563026  1.38934671], logloss: 0.6667080863207683\n",
      "Stop descent. Iteration: 23130, weights: [ 0.45549656 -0.29668349  0.64321987  1.46096587], logloss: 0.9130701557348072\n",
      "Stop descent. Iteration: 2, weights: [ 0.49671377 -0.13826575  0.64768851  1.52302929], logloss: 1.1785958344356262\n",
      "Stop descent. Iteration: 2, weights: [ 0.49671396 -0.13826503  0.64768852  1.52302957], logloss: 1.1785958344356262\n",
      "Stop descent. Iteration: 2, weights: [ 0.49671412 -0.13826445  0.64768854  1.5230298 ], logloss: 1.1785958344356262\n",
      "best alpha: 0.5, \n",
      "results:\n",
      "err: 0.17451429964096338, \n",
      "n_iter: 5588\n"
     ]
    },
    {
     "data": {
      "text/plain": [
       "(0.5, 0.17451429964096338, 5588)"
      ]
     },
     "execution_count": 42,
     "metadata": {},
     "output_type": "execute_result"
    }
   ],
   "source": [
    "alphas = [1, 0.5, 0.1, 0.05, 0.01, 0.005, 0.001, 0.0005, 0.0001, 0.00005, 0.00001, 0.000005, 0.000001, 0.0000005, 0.0000001]\n",
    "best_param = get_best_params(X_st, y, alphas)\n",
    "best_param"
   ]
  },
  {
   "cell_type": "markdown",
   "id": "1d5e62fc",
   "metadata": {},
   "source": [
    "Лучший параметр скорости обучения в данном примере $\\alpha = 0.5$."
   ]
  },
  {
   "cell_type": "markdown",
   "id": "9cf3c7c5",
   "metadata": {},
   "source": [
    "3. Создайте функцию calc_pred_proba, возвращающую предсказанную вероятность класса 1 (на вход подаются W, который уже посчитан функцией eval_model и X, на выходе - массив y_pred_proba)."
   ]
  },
  {
   "cell_type": "code",
   "execution_count": 16,
   "id": "d23b1e0b",
   "metadata": {},
   "outputs": [],
   "source": [
    "def calc_pred_proba(W, X): \n",
    "    pred_proba = sigmoid(np.dot(X, W))\n",
    "    return pred_proba"
   ]
  },
  {
   "cell_type": "code",
   "execution_count": 17,
   "id": "2be4fa87",
   "metadata": {},
   "outputs": [
    {
     "name": "stdout",
     "output_type": "stream",
     "text": [
      "1000 [-7.45770662 -1.13952545 -1.38116181  6.55470777] 0.2698163959605315\n",
      "2000 [-10.74690483  -1.38416322  -2.42154793   9.13598506] 0.2321438079024516\n",
      "3000 [-13.27474073  -1.59511144  -3.18818218  11.17211031] 0.20973740486390463\n",
      "4000 [-15.42904321  -1.78154353  -3.82925471  12.91883838] 0.19343288558614483\n",
      "5000 [-17.32873106  -1.94875871  -4.38792531  14.46232766] 0.1807541199248279\n",
      "Stop descent. Iteration: 5588, weights: [-18.35029116  -2.03943006  -4.68623881  15.29282887], logloss: 0.17451429964096338\n"
     ]
    }
   ],
   "source": [
    "W, err, iteration = eval_model(X_st, y, alpha=0.5, verbose=True)"
   ]
  },
  {
   "cell_type": "code",
   "execution_count": 18,
   "id": "29c8520d",
   "metadata": {},
   "outputs": [
    {
     "data": {
      "text/plain": [
       "array([3.76064786e-01, 8.02194945e-02, 9.99967427e-01, 6.56473375e-05,\n",
       "       8.21509735e-01, 2.03213448e-01, 9.99995255e-01, 5.88433938e-02,\n",
       "       4.94246689e-01, 9.99635138e-01])"
      ]
     },
     "execution_count": 18,
     "metadata": {},
     "output_type": "execute_result"
    }
   ],
   "source": [
    "y_pred_proba = calc_pred_proba(W, X_st)\n",
    "y_pred_proba"
   ]
  },
  {
   "cell_type": "markdown",
   "id": "11110510",
   "metadata": {},
   "source": [
    "4. Создайте функцию calc_pred, возвращающую предсказанный класс (на вход подаются W, который уже посчитан функцией eval_model и X, на выходе - массив y_pred)."
   ]
  },
  {
   "cell_type": "code",
   "execution_count": 19,
   "id": "f17ed3a5",
   "metadata": {},
   "outputs": [],
   "source": [
    "def calc_pred(W, X, prob_lim=0.5):\n",
    "    pred_proba = sigmoid(np.dot(X, W))\n",
    "    pred = np.zeros_like(pred_proba)\n",
    "    for idx, prob in enumerate(pred_proba):\n",
    "        if prob > prob_lim:\n",
    "            pred[idx] = 1\n",
    "    return pred"
   ]
  },
  {
   "cell_type": "code",
   "execution_count": 20,
   "id": "b8f5bab5",
   "metadata": {},
   "outputs": [
    {
     "data": {
      "text/plain": [
       "array([0., 0., 1., 0., 1., 0., 1., 0., 0., 1.])"
      ]
     },
     "execution_count": 20,
     "metadata": {},
     "output_type": "execute_result"
    }
   ],
   "source": [
    "y_pred = calc_pred(W, X_st)\n",
    "y_pred"
   ]
  },
  {
   "cell_type": "markdown",
   "id": "3285d7cb",
   "metadata": {},
   "source": [
    "5. Реализуйте функции для подсчета Accuracy, матрицы ошибок, точности и полноты, а также F1 score."
   ]
  },
  {
   "cell_type": "code",
   "execution_count": 21,
   "id": "1e12c23e",
   "metadata": {},
   "outputs": [],
   "source": [
    "from sklearn.metrics import accuracy_score, confusion_matrix, recall_score, precision_score, f1_score"
   ]
  },
  {
   "cell_type": "markdown",
   "id": "dfab6901",
   "metadata": {},
   "source": [
    "**Accuracy**"
   ]
  },
  {
   "cell_type": "code",
   "execution_count": 24,
   "id": "a1490784",
   "metadata": {},
   "outputs": [],
   "source": [
    "def my_accuracy(real, pred):\n",
    "    all_results = len(real)\n",
    "    trues = 0\n",
    "    for i in range(all_results):\n",
    "        trues += int(real[i] == pred[i])\n",
    "    return trues / all_results"
   ]
  },
  {
   "cell_type": "code",
   "execution_count": 25,
   "id": "d2d88590",
   "metadata": {},
   "outputs": [
    {
     "data": {
      "text/plain": [
       "0.9"
      ]
     },
     "execution_count": 25,
     "metadata": {},
     "output_type": "execute_result"
    }
   ],
   "source": [
    "my_accuracy(y, y_pred)"
   ]
  },
  {
   "cell_type": "markdown",
   "id": "23275ef8",
   "metadata": {},
   "source": [
    "Проверка:"
   ]
  },
  {
   "cell_type": "code",
   "execution_count": 26,
   "id": "e1a62a2a",
   "metadata": {},
   "outputs": [
    {
     "data": {
      "text/plain": [
       "0.9"
      ]
     },
     "execution_count": 26,
     "metadata": {},
     "output_type": "execute_result"
    }
   ],
   "source": [
    "accuracy_score(y, y_pred)"
   ]
  },
  {
   "cell_type": "markdown",
   "id": "ec99d41e",
   "metadata": {},
   "source": [
    "**Матрица ошибок**"
   ]
  },
  {
   "cell_type": "code",
   "execution_count": 27,
   "id": "a6667c45",
   "metadata": {},
   "outputs": [],
   "source": [
    "def my_confusion_matrix(real, pred):\n",
    "    n_classes = len(np.unique(real))\n",
    "    all_results = len(real)\n",
    "    confusion_matrix = np.zeros((n_classes, n_classes), dtype='int')\n",
    "    for i in range(all_results):\n",
    "        confusion_matrix[int(real[i])][int(pred[i])] += 1\n",
    "    return confusion_matrix"
   ]
  },
  {
   "cell_type": "code",
   "execution_count": 28,
   "id": "ae7b2f52",
   "metadata": {},
   "outputs": [
    {
     "data": {
      "text/plain": [
       "array([[5, 0],\n",
       "       [1, 4]])"
      ]
     },
     "execution_count": 28,
     "metadata": {},
     "output_type": "execute_result"
    }
   ],
   "source": [
    "my_confusion_matrix(y, y_pred)"
   ]
  },
  {
   "cell_type": "markdown",
   "id": "0364e284",
   "metadata": {},
   "source": [
    "Проверка:"
   ]
  },
  {
   "cell_type": "code",
   "execution_count": 29,
   "id": "07e5a6c4",
   "metadata": {},
   "outputs": [
    {
     "data": {
      "text/plain": [
       "array([[5, 0],\n",
       "       [1, 4]], dtype=int64)"
      ]
     },
     "execution_count": 29,
     "metadata": {},
     "output_type": "execute_result"
    }
   ],
   "source": [
    "confusion_matrix(y, y_pred)"
   ]
  },
  {
   "cell_type": "markdown",
   "id": "eb1ebb39",
   "metadata": {},
   "source": [
    "**Точность**"
   ]
  },
  {
   "cell_type": "code",
   "execution_count": 30,
   "id": "dddccc95",
   "metadata": {},
   "outputs": [],
   "source": [
    "def my_precision(real, pred):\n",
    "    tn, fp, fn, tp = my_confusion_matrix(real, pred).ravel()\n",
    "    return tp / (tp+fp)"
   ]
  },
  {
   "cell_type": "code",
   "execution_count": 31,
   "id": "4ae91b06",
   "metadata": {},
   "outputs": [
    {
     "data": {
      "text/plain": [
       "1.0"
      ]
     },
     "execution_count": 31,
     "metadata": {},
     "output_type": "execute_result"
    }
   ],
   "source": [
    "my_precision(y, y_pred)"
   ]
  },
  {
   "cell_type": "code",
   "execution_count": 32,
   "id": "79efc887",
   "metadata": {},
   "outputs": [
    {
     "data": {
      "text/plain": [
       "1.0"
      ]
     },
     "execution_count": 32,
     "metadata": {},
     "output_type": "execute_result"
    }
   ],
   "source": [
    "precision_score(y, y_pred)"
   ]
  },
  {
   "cell_type": "markdown",
   "id": "b84a034b",
   "metadata": {},
   "source": [
    "**Полнота**"
   ]
  },
  {
   "cell_type": "code",
   "execution_count": 33,
   "id": "91c002c0",
   "metadata": {},
   "outputs": [],
   "source": [
    "def my_recall(real, pred):\n",
    "    tn, fp, fn, tp = my_confusion_matrix(real, pred).ravel()\n",
    "    return tp / (tp+fn)"
   ]
  },
  {
   "cell_type": "code",
   "execution_count": 34,
   "id": "3bff5d45",
   "metadata": {},
   "outputs": [
    {
     "data": {
      "text/plain": [
       "0.8"
      ]
     },
     "execution_count": 34,
     "metadata": {},
     "output_type": "execute_result"
    }
   ],
   "source": [
    "my_recall(y, y_pred)"
   ]
  },
  {
   "cell_type": "code",
   "execution_count": 35,
   "id": "7473fbcd",
   "metadata": {},
   "outputs": [
    {
     "data": {
      "text/plain": [
       "0.8"
      ]
     },
     "execution_count": 35,
     "metadata": {},
     "output_type": "execute_result"
    }
   ],
   "source": [
    "recall_score(y, y_pred)"
   ]
  },
  {
   "cell_type": "markdown",
   "id": "478a69c1",
   "metadata": {},
   "source": [
    "**F1-score**"
   ]
  },
  {
   "cell_type": "code",
   "execution_count": 36,
   "id": "2e89dfcf",
   "metadata": {},
   "outputs": [],
   "source": [
    "def my_f1(real, pred, beta=1):\n",
    "    f_score = (1+beta**2) * my_precision(real, pred) * my_recall(y,y_pred) / (beta**2*my_precision(real, pred) + my_recall(y,y_pred))\n",
    "    return f_score"
   ]
  },
  {
   "cell_type": "code",
   "execution_count": 37,
   "id": "543fb019",
   "metadata": {},
   "outputs": [
    {
     "data": {
      "text/plain": [
       "0.888888888888889"
      ]
     },
     "execution_count": 37,
     "metadata": {},
     "output_type": "execute_result"
    }
   ],
   "source": [
    "my_f1(y, y_pred)"
   ]
  },
  {
   "cell_type": "code",
   "execution_count": 38,
   "id": "1200c952",
   "metadata": {},
   "outputs": [
    {
     "data": {
      "text/plain": [
       "0.888888888888889"
      ]
     },
     "execution_count": 38,
     "metadata": {},
     "output_type": "execute_result"
    }
   ],
   "source": [
    "f1_score(y, y_pred)"
   ]
  },
  {
   "cell_type": "markdown",
   "id": "854be30d",
   "metadata": {},
   "source": [
    "6. Могла ли модель переобучиться? Почему?"
   ]
  },
  {
   "cell_type": "markdown",
   "id": "9a0aee0f",
   "metadata": {},
   "source": [
    "Модель логистической регрессии склонна к переобучению в следствие того, что мы используем сигмоиду, чтобы преобразовать в вероятность предсказания линейной модели. А т.к. сигмоида не имеет максимума и минимума, а только асимптоты в 0 и 1, градиентный спуск не может достичь оптимального решения с помощью градиентных шагов, доводя веса до все более экстремальных значений, пытаясь достичь нулевых потерь. При большой размерности данных вероятность этого еще больше увеличивается."
   ]
  },
  {
   "cell_type": "code",
   "execution_count": null,
   "id": "0d0146ce",
   "metadata": {},
   "outputs": [],
   "source": []
  }
 ],
 "metadata": {
  "kernelspec": {
   "display_name": "Python 3 (ipykernel)",
   "language": "python",
   "name": "python3"
  },
  "language_info": {
   "codemirror_mode": {
    "name": "ipython",
    "version": 3
   },
   "file_extension": ".py",
   "mimetype": "text/x-python",
   "name": "python",
   "nbconvert_exporter": "python",
   "pygments_lexer": "ipython3",
   "version": "3.9.12"
  }
 },
 "nbformat": 4,
 "nbformat_minor": 5
}
