{
 "cells": [
  {
   "cell_type": "code",
   "execution_count": 1,
   "id": "097a3a4d",
   "metadata": {},
   "outputs": [],
   "source": [
    "import numpy as np\n",
    "import matplotlib.pyplot as plt"
   ]
  },
  {
   "cell_type": "markdown",
   "id": "8f8a1856",
   "metadata": {},
   "source": [
    "__Задача:__ предсказание баллов ЕГЭ ученика"
   ]
  },
  {
   "cell_type": "code",
   "execution_count": 46,
   "id": "8d1ce454",
   "metadata": {},
   "outputs": [],
   "source": [
    "X = np.array([[   1,    1,  500,    1],\n",
    "              [   1,    1,  700,    1],\n",
    "              [   1,    2,  750,    2],\n",
    "              [   1,    5,  600,    1],\n",
    "              [   1,    3, 1450,    2],\n",
    "              [   1,    0,  800,    1],\n",
    "              [   1,    5, 1500,    3],\n",
    "              [   1,   10, 2000,    3],\n",
    "              [   1,    1,  450,    1],\n",
    "              [   1,    2, 1000,    2]])"
   ]
  },
  {
   "cell_type": "code",
   "execution_count": 47,
   "id": "e2ba136d",
   "metadata": {},
   "outputs": [],
   "source": [
    "y = [45, 55, 50, 55, 60, 35, 75, 80, 50, 60]"
   ]
  },
  {
   "cell_type": "code",
   "execution_count": 48,
   "id": "921c3f29",
   "metadata": {},
   "outputs": [],
   "source": [
    "def min_max_scale(X):\n",
    "    return (X - X.min()) / (X.max() - X.min())"
   ]
  },
  {
   "cell_type": "code",
   "execution_count": 49,
   "id": "d7088ead",
   "metadata": {},
   "outputs": [],
   "source": [
    "def standard_scale(X):\n",
    "    mean = X.mean()\n",
    "    std = X.std()\n",
    "    return (X - mean) / std"
   ]
  },
  {
   "cell_type": "code",
   "execution_count": 50,
   "id": "8efa324a",
   "metadata": {},
   "outputs": [],
   "source": [
    "def calc_mse(y, y_pred):\n",
    "    err = np.mean((y - y_pred)**2)\n",
    "    return err"
   ]
  },
  {
   "cell_type": "code",
   "execution_count": 7,
   "id": "f73cc603",
   "metadata": {},
   "outputs": [
    {
     "data": {
      "text/plain": [
       "array([[ 1.        , -0.70710678, -0.97958969, -0.89625816],\n",
       "       [ 1.        , -0.70710678, -0.56713087, -0.89625816],\n",
       "       [ 1.        , -0.35355339, -0.46401617,  0.38411064],\n",
       "       [ 1.        ,  0.70710678, -0.77336028, -0.89625816],\n",
       "       [ 1.        ,  0.        ,  0.97958969,  0.38411064],\n",
       "       [ 1.        , -1.06066017, -0.36090146, -0.89625816],\n",
       "       [ 1.        ,  0.70710678,  1.08270439,  1.66447944],\n",
       "       [ 1.        ,  2.47487373,  2.11385144,  1.66447944],\n",
       "       [ 1.        , -0.70710678, -1.08270439, -0.89625816],\n",
       "       [ 1.        , -0.35355339,  0.05155735,  0.38411064]])"
      ]
     },
     "execution_count": 7,
     "metadata": {},
     "output_type": "execute_result"
    }
   ],
   "source": [
    "X_st = X.copy().astype(np.float64)\n",
    "X_st[:, 1] = standard_scale(X_st[:, 1])\n",
    "X_st[:, 2] = standard_scale(X_st[:, 2])\n",
    "X_st[:, 3] = standard_scale(X_st[:, 3])\n",
    "\n",
    "X_st"
   ]
  },
  {
   "cell_type": "code",
   "execution_count": 8,
   "id": "9b8aa67c",
   "metadata": {},
   "outputs": [
    {
     "name": "stdout",
     "output_type": "stream",
     "text": [
      "4.4408920985006264e-17\n",
      "1.0\n"
     ]
    },
    {
     "data": {
      "image/png": "[encoded data removed]",
      "text/plain": [
       "<Figure size 432x288 with 1 Axes>"
      ]
     },
     "metadata": {
      "needs_background": "light"
     },
     "output_type": "display_data"
    }
   ],
   "source": [
    "print(np.mean(X_st[:, 1]))\n",
    "print(np.std(X_st[:, 1]))\n",
    "\n",
    "plt.hist(X_st[:, 1])\n",
    "plt.show()"
   ]
  },
  {
   "cell_type": "markdown",
   "id": "17ed4685",
   "metadata": {},
   "source": [
    "2. Можно ли к одному и тому же признаку применить сразу и нормализацию, и стандартизацию?"
   ]
  },
  {
   "cell_type": "code",
   "execution_count": 55,
   "id": "5bce3cba",
   "metadata": {},
   "outputs": [],
   "source": [
    "X_norm = X.copy().astype(np.float64)"
   ]
  },
  {
   "cell_type": "code",
   "execution_count": 56,
   "id": "ae23922d",
   "metadata": {},
   "outputs": [
    {
     "data": {
      "text/plain": [
       "array([[1.        , 0.1       , 0.03225806, 0.        ],\n",
       "       [1.        , 0.1       , 0.16129032, 0.        ],\n",
       "       [1.        , 0.2       , 0.19354839, 0.5       ],\n",
       "       [1.        , 0.5       , 0.09677419, 0.        ],\n",
       "       [1.        , 0.3       , 0.64516129, 0.5       ],\n",
       "       [1.        , 0.        , 0.22580645, 0.        ],\n",
       "       [1.        , 0.5       , 0.67741935, 1.        ],\n",
       "       [1.        , 1.        , 1.        , 1.        ],\n",
       "       [1.        , 0.1       , 0.        , 0.        ],\n",
       "       [1.        , 0.2       , 0.35483871, 0.5       ]])"
      ]
     },
     "execution_count": 56,
     "metadata": {},
     "output_type": "execute_result"
    }
   ],
   "source": [
    "X_norm[:, 1] = min_max_scale(X_norm[:, 1])\n",
    "X_norm[:, 2] = min_max_scale(X_norm[:, 2])\n",
    "X_norm[:, 3] = min_max_scale(X_norm[:, 3])\n",
    "X_norm"
   ]
  },
  {
   "cell_type": "code",
   "execution_count": 58,
   "id": "b9e8eb14",
   "metadata": {},
   "outputs": [
    {
     "data": {
      "text/plain": [
       "(array([0., 0., 0.]), array([1., 1., 1.]))"
      ]
     },
     "execution_count": 58,
     "metadata": {},
     "output_type": "execute_result"
    }
   ],
   "source": [
    "X_norm.min(axis=0), X_norm.max(axis=0)"
   ]
  },
  {
   "cell_type": "code",
   "execution_count": 59,
   "id": "b177e672",
   "metadata": {
    "scrolled": true
   },
   "outputs": [
    {
     "data": {
      "text/plain": [
       "(array([0.3       , 0.33870968, 0.35      ]),\n",
       " array([0.28284271, 0.31283671, 0.39051248]))"
      ]
     },
     "execution_count": 59,
     "metadata": {},
     "output_type": "execute_result"
    }
   ],
   "source": [
    "X_norm.mean(axis=0), X_norm.std(axis=0)"
   ]
  },
  {
   "cell_type": "code",
   "execution_count": 40,
   "id": "7a0f8bf6",
   "metadata": {},
   "outputs": [],
   "source": [
    "X_norm_st = standard_scale(X_norm)"
   ]
  },
  {
   "cell_type": "code",
   "execution_count": 66,
   "id": "708598a8",
   "metadata": {},
   "outputs": [
    {
     "data": {
      "text/plain": [
       "array([[ 1.        , -0.70710678, -0.97958969, -0.89625816],\n",
       "       [ 1.        , -0.70710678, -0.56713087, -0.89625816],\n",
       "       [ 1.        , -0.35355339, -0.46401617,  0.38411064],\n",
       "       [ 1.        ,  0.70710678, -0.77336028, -0.89625816],\n",
       "       [ 1.        ,  0.        ,  0.97958969,  0.38411064],\n",
       "       [ 1.        , -1.06066017, -0.36090146, -0.89625816],\n",
       "       [ 1.        ,  0.70710678,  1.08270439,  1.66447944],\n",
       "       [ 1.        ,  2.47487373,  2.11385144,  1.66447944],\n",
       "       [ 1.        , -0.70710678, -1.08270439, -0.89625816],\n",
       "       [ 1.        , -0.35355339,  0.05155735,  0.38411064]])"
      ]
     },
     "execution_count": 66,
     "metadata": {},
     "output_type": "execute_result"
    }
   ],
   "source": [
    "X_norm_st = X.copy().astype(np.float64)\n",
    "X_norm_st[:, 1] = standard_scale(X_norm_st[:, 1])\n",
    "X_norm_st[:, 2] = standard_scale(X_norm_st[:, 2])\n",
    "X_norm_st[:, 3] = standard_scale(X_norm_st[:, 3])\n",
    "\n",
    "X_norm_st"
   ]
  },
  {
   "cell_type": "code",
   "execution_count": 67,
   "id": "af232b4c",
   "metadata": {},
   "outputs": [
    {
     "data": {
      "text/plain": [
       "(array([ 1.        , -1.06066017, -1.08270439, -0.89625816]),\n",
       " array([1.        , 2.47487373, 2.11385144, 1.66447944]))"
      ]
     },
     "execution_count": 67,
     "metadata": {},
     "output_type": "execute_result"
    }
   ],
   "source": [
    "X_norm_st.min(axis=0), X_norm_st.max(axis=0)"
   ]
  },
  {
   "cell_type": "code",
   "execution_count": 68,
   "id": "71c44fae",
   "metadata": {
    "scrolled": true
   },
   "outputs": [
    {
     "data": {
      "text/plain": [
       "(array([1.00000000e+00, 2.22044605e-17, 2.49800181e-17, 8.32667268e-17]),\n",
       " array([0., 1., 1., 1.]))"
      ]
     },
     "execution_count": 68,
     "metadata": {},
     "output_type": "execute_result"
    }
   ],
   "source": [
    "X_norm_st.mean(axis=0), X_norm_st.std(axis=0)"
   ]
  },
  {
   "cell_type": "markdown",
   "id": "57185bcf",
   "metadata": {},
   "source": [
    "Та операция, которая идёт последняя (в данном случае стандартизация) будет перетягивать всё внимание на себя. После неё получились значения, которые и должны быть после её выполнения (среднее значение равно 0, стандартное отклонение равно 1). Т.е. к одному и тому же признаку можно применить и нормализацию, и стандартизацию, но смысла в этом нет. "
   ]
  },
  {
   "cell_type": "markdown",
   "id": "fb85d79d",
   "metadata": {},
   "source": [
    "3. Напишите функцию наподобие gradient_descent_reg_l2, но для применения L1-регуляризации."
   ]
  },
  {
   "cell_type": "code",
   "execution_count": 17,
   "id": "c44a57e2",
   "metadata": {},
   "outputs": [],
   "source": [
    "def gradient_descent_reg_l1(X, y, iterations, eta=1e-4, reg=1e-8):\n",
    "    W = np.random.randn(X.shape[1])\n",
    "    n = X.shape[0]\n",
    "    \n",
    "    for i in range(0, iterations):\n",
    "        y_pred = np.dot(X, W)\n",
    "        err = calc_mse(y, y_pred)\n",
    "        \n",
    "        dQ = 2/n * X.T @ (y_pred - y)\n",
    "        dReg = reg * np.sign(W)\n",
    "        \n",
    "        W -= eta * (dQ + dReg)\n",
    "        \n",
    "        if i % (iterations / 10) == 0:\n",
    "            print(f'Iter: {i}, weights: {W}, error {err}')\n",
    "    \n",
    "    print(f'Final MSE: {calc_mse(y, np.dot(X, W))}')\n",
    "    return W"
   ]
  },
  {
   "cell_type": "code",
   "execution_count": 18,
   "id": "adb5f4e0",
   "metadata": {},
   "outputs": [
    {
     "name": "stdout",
     "output_type": "stream",
     "text": [
      "Iter: 0, weights: [ 1.30615359 -0.48728457 -0.28651624  0.01411824], error 3365.6262142030246\n",
      "Iter: 500, weights: [56.49273593  5.91138814  1.10924516  5.43998843], error 25.27430720918881\n",
      "Iter: 1000, weights: [56.49499991  6.18857472  0.1617531   6.14493844], error 24.95218797940998\n",
      "Iter: 1500, weights: [56.495       6.25127328 -0.1405546   6.3983175 ], error 24.912774383764404\n",
      "Iter: 2000, weights: [56.495       6.27123656 -0.24051145  6.48152791], error 24.906968344797274\n",
      "Iter: 2500, weights: [56.495       6.27866713 -0.27656701  6.5113241 ], error 24.905745552200578\n",
      "Iter: 3000, weights: [56.495       6.28135423 -0.28954885  6.52204107], error 24.90541786815461\n",
      "Iter: 3500, weights: [56.495       6.28232207 -0.29422175  6.52589815], error 24.90531449652396\n",
      "Iter: 4000, weights: [56.495       6.28267047 -0.29590373  6.52728645], error 24.905279177491487\n",
      "Iter: 4500, weights: [56.495       6.28279588 -0.29650915  6.52778616], error 24.90526670941926\n",
      "Final MSE: 24.905262253347644\n"
     ]
    },
    {
     "data": {
      "text/plain": [
       "array([56.495     ,  6.28284097, -0.29672681,  6.52796582])"
      ]
     },
     "execution_count": 18,
     "metadata": {},
     "output_type": "execute_result"
    }
   ],
   "source": [
    "gradient_descent_reg_l1(X_st, y, iterations=5000, eta=1e-2, reg=1e-2)"
   ]
  },
  {
   "cell_type": "code",
   "execution_count": null,
   "id": "decff28e",
   "metadata": {},
   "outputs": [],
   "source": []
  }
 ],
 "metadata": {
  "kernelspec": {
   "display_name": "Python 3 (ipykernel)",
   "language": "python",
   "name": "python3"
  },
  "language_info": {
   "codemirror_mode": {
    "name": "ipython",
    "version": 3
   },
   "file_extension": ".py",
   "mimetype": "text/x-python",
   "name": "python",
   "nbconvert_exporter": "python",
   "pygments_lexer": "ipython3",
   "version": "3.9.12"
  }
 },
 "nbformat": 4,
 "nbformat_minor": 5
}
